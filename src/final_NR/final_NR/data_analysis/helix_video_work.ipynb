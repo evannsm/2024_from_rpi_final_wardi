{
 "cells": [
  {
   "cell_type": "code",
   "execution_count": 13,
   "id": "d477a5e6",
   "metadata": {},
   "outputs": [],
   "source": [
    "import pandas as pd\n",
    "import numpy as np\n",
    "import matplotlib.pyplot as plt\n",
    "from mpl_toolkits.mplot3d import Axes3D\n",
    "import matplotlib.animation as animation\n",
    "from IPython.display import HTML\n",
    "from matplotlib.animation import PillowWriter\n"
   ]
  },
  {
   "cell_type": "code",
   "execution_count": 14,
   "id": "5422784d",
   "metadata": {},
   "outputs": [],
   "source": [
    "# === Load and prepare data ===\n",
    "log_file_path = 'hxx.log'\n",
    "df_log = pd.read_csv(log_file_path)\n"
   ]
  },
  {
   "cell_type": "code",
   "execution_count": 15,
   "id": "006ebdc1",
   "metadata": {},
   "outputs": [],
   "source": [
    "# Clip time range for true path\n",
    "start_time = df_log['time'].iloc[0] + 70\n",
    "end_time = start_time + 30\n",
    "df_clipped = df_log[(df_log['time'] >= start_time) & (df_log['time'] <= end_time)].reset_index(drop=True)\n",
    "\n",
    "# Apply skip factor\n",
    "skip_factor = 10\n",
    "df_clipped = df_clipped.iloc[::skip_factor].reset_index(drop=True)\n",
    "\n",
    "# Adjust battery offset\n",
    "battery_adj = df_clipped['z'].min() - df_clipped['z_ref'].min()\n",
    "\n",
    "# Extract data\n",
    "time_vals = df_clipped['time'].values\n",
    "x = df_clipped['x'].values\n",
    "y = df_clipped['y'].values\n",
    "z = (df_clipped['z'] - battery_adj).values\n"
   ]
  },
  {
   "cell_type": "code",
   "execution_count": 10,
   "id": "6de858cc",
   "metadata": {},
   "outputs": [],
   "source": [
    "# Clip time range for the reference path\n",
    "start_time = df_log['time'].iloc[0] + 70 - 0.8\n",
    "end_time = start_time + 15 + 0.8\n",
    "df_clipped_ref = df_log[(df_log['time'] >= start_time) & (df_log['time'] <= end_time)].reset_index(drop=True)\n",
    " \n",
    "x_ref = df_clipped_ref['x_ref'].values\n",
    "y_ref = df_clipped_ref['y_ref'].values\n",
    "z_ref = df_clipped_ref['z_ref'].values\n",
    "\n",
    "\n",
    "# Clip time range for black dot path\n",
    "start_time = df_log['time'].iloc[0] + 70 - 0.6\n",
    "end_time = start_time + 30 + 0.6\n",
    "df_clipped_black_dot = df_log[(df_log['time'] >= start_time) & (df_log['time'] <= end_time)].reset_index(drop=True)\n",
    " \n",
    "x_ref_blackdot = df_clipped_black_dot['x_ref'].values\n",
    "y_ref_blackdot = df_clipped_black_dot['y_ref'].values\n",
    "z_ref_blackdot = df_clipped_black_dot['z_ref'].values"
   ]
  },
  {
   "cell_type": "code",
   "execution_count": 11,
   "id": "870d4a3f",
   "metadata": {},
   "outputs": [
    {
     "data": {
      "image/png": "[encoded data removed]",
      "text/plain": [
       "<Figure size 1000x800 with 1 Axes>"
      ]
     },
     "metadata": {
      "needs_background": "light"
     },
     "output_type": "display_data"
    }
   ],
   "source": [
    "# Create figure with transparent background\n",
    "fig = plt.figure(facecolor='none', figsize=(10, 8))\n",
    "ax = fig.add_subplot(111, projection='3d', facecolor='none')\n",
    "\n",
    "# Make all axes panes completely transparent\n",
    "ax.xaxis.set_pane_color((1.0, 1.0, 1.0, 0.0))\n",
    "ax.yaxis.set_pane_color((1.0, 1.0, 1.0, 0.0))\n",
    "ax.zaxis.set_pane_color((1.0, 1.0, 1.0, 0.0))\n",
    "\n",
    "# Remove all axis lines and ticks\n",
    "ax.set_axis_off()  # This turns off all axes elements at once\n",
    "\n",
    "# Alternative if you want to keep axes but make them transparent:\n",
    "# ax.grid(False)\n",
    "# ax.set_xticks([])\n",
    "# ax.set_yticks([])\n",
    "# ax.set_zticks([])\n",
    "# \n",
    "# # Make axis lines transparent\n",
    "# ax.w_xaxis.line.set_color((1.0, 1.0, 1.0, 0.0))\n",
    "# ax.w_yaxis.line.set_color((1.0, 1.0, 1.0, 0.0))\n",
    "# ax.w_zaxis.line.set_color((1.0, 1.0, 1.0, 0.0))\n",
    "\n",
    "# Remove pane borders completely\n",
    "ax.xaxis.pane.set_edgecolor('none')\n",
    "ax.yaxis.pane.set_edgecolor('none')\n",
    "ax.zaxis.pane.set_edgecolor('none')\n",
    "\n",
    "# Set equal aspect ratio\n",
    "ax.set_box_aspect([1, 1, 1])\n",
    "\n",
    "# Add your plot elements (these will remain visible)\n",
    "ax.plot3D(-x_ref, y_ref, -z_ref, 'b--', label='Reference')\n",
    "trace, = ax.plot([], [], [], 'r-', label='Actual')\n",
    "ax.legend(frameon=False)  # Legend with transparent background\n",
    "\n",
    "# Set viewing angle\n",
    "ax.view_init(elev=23, azim=0)\n",
    "ax.dist = 14  # Adjust distance from the viewer\n",
    "ax.set_proj_type('persp')"
   ]
  },
  {
   "cell_type": "code",
   "execution_count": 17,
   "id": "388a549e",
   "metadata": {},
   "outputs": [],
   "source": [
    "# Add black dot for animated reference\n",
    "ref_dot, = ax.plot([], [], [], 'ko', markersize=5, label='Reference Dot')  # small black circle\n",
    "\n",
    "def init():\n",
    "    trace.set_data(x[:0], y[:0])\n",
    "    trace.set_3d_properties(-z[:0])\n",
    "    ref_dot.set_data(np.array([]), np.array([]))\n",
    "    ref_dot.set_3d_properties(np.array([]))\n",
    "    return trace, ref_dot\n",
    "\n",
    "\n",
    "def update(frame):\n",
    "    # trace_x.append(x[frame])\n",
    "    # trace_y.append(-y[frame])\n",
    "    # trace_z.append(-z[frame])\n",
    "\n",
    "    # trace.set_data(np.array(trace_x), np.array(trace_y))\n",
    "    # trace.set_3d_properties(np.array(trace_z))\n",
    "\n",
    "    # if frame < len(x_ref_blackdot):\n",
    "    #     ref_dot.set_data(-x_ref_blackdot[frame], y_ref_blackdot[frame])\n",
    "    #     ref_dot.set_3d_properties(-z_ref_blackdot[frame])\n",
    "    return trace, ref_dot\n",
    "\n",
    "# Create animation\n",
    "ani = animation.FuncAnimation(\n",
    "    fig, update, frames=len(x),\n",
    "    init_func=init, blit=False, interval=interval_ms, repeat=False\n",
    ")\n",
    "\n"
   ]
  },
  {
   "cell_type": "code",
   "execution_count": null,
   "id": "709be42a",
   "metadata": {},
   "outputs": [],
   "source": [
    "# Save and optionally render\n",
    "# ani.save(\"trajectory2.gif\", writer=PillowWriter(fps=1000 // interval_ms))\n",
    "# HTML(ani.to_jshtml())\n",
    "# ani.save(\"trajectory.mp4\", writer='ffmpeg', fps=1000 // interval_ms)\n",
    "\n"
   ]
  },
  {
   "cell_type": "code",
   "execution_count": null,
   "id": "aca696c4",
   "metadata": {},
   "outputs": [],
   "source": [
    "# ani.save(\"trajectory.mov\", writer='ffmpeg', fps=1000 // interval_ms,\n",
    "#          extra_args=['-vcodec', 'qtrle'])  # qtrle supports alpha in .mov\n"
   ]
  },
  {
   "cell_type": "code",
   "execution_count": null,
   "id": "4f0f1b2b",
   "metadata": {},
   "outputs": [],
   "source": [
    "# # === Save PNG frames manually with transparent background ===\n",
    "# import os\n",
    "# os.makedirs(\"frames\", exist_ok=True)\n",
    "\n",
    "# # Re-initialize before frame-by-frame saving\n",
    "# init()\n",
    "\n",
    "# for i in range(len(x)):\n",
    "#     update(i)\n",
    "#     fig.savefig(f\"frames/frame_{i:04d}.png\", dpi=200, transparent=True)\n"
   ]
  },
  {
   "cell_type": "code",
   "execution_count": null,
   "id": "a72120a3",
   "metadata": {},
   "outputs": [],
   "source": [
    "# # === Save PNG frames manually with transparent background ===\n",
    "# import os\n",
    "# os.makedirs(\"frames\", exist_ok=True)\n",
    "\n",
    "# # Re-initialize the figure\n",
    "# init()\n",
    "\n",
    "# for i in range(len(x)):\n",
    "#     update(i)\n",
    "#     fig.savefig(f\"frames/frame_{i:04d}.png\", dpi=200, transparent=True, facecolor='none')\n"
   ]
  },
  {
   "cell_type": "code",
   "execution_count": null,
   "id": "323c3949",
   "metadata": {},
   "outputs": [],
   "source": [
    "# ani.save(\"frames/frame_%04d.png\", dpi=200, savefig_kwargs={'transparent': True})\n"
   ]
  },
  {
   "cell_type": "code",
   "execution_count": 16,
   "id": "5f12ed3a",
   "metadata": {},
   "outputs": [],
   "source": [
    "fps = len(x) / 30  # For 30 seconds\n",
    "interval_ms = 1000 / fps  # milliseconds between frames for animation\n"
   ]
  },
  {
   "cell_type": "code",
   "execution_count": null,
   "id": "5148df4b",
   "metadata": {},
   "outputs": [
    {
     "data": {
      "text/plain": [
       "6.033333333333333"
      ]
     },
     "execution_count": 146,
     "metadata": {},
     "output_type": "execute_result"
    }
   ],
   "source": [
    "fps"
   ]
  },
  {
   "cell_type": "code",
   "execution_count": 19,
   "id": "fbc3f40f",
   "metadata": {},
   "outputs": [
    {
     "ename": "FileNotFoundError",
     "evalue": "[Errno 2] No such file or directory: 'frames_x/frame_0000.png'",
     "output_type": "error",
     "traceback": [
      "\u001b[0;31m---------------------------------------------------------------------------\u001b[0m",
      "\u001b[0;31mFileNotFoundError\u001b[0m                         Traceback (most recent call last)",
      "Cell \u001b[0;32mIn[19], line 10\u001b[0m\n\u001b[1;32m      8\u001b[0m \u001b[38;5;28;01mfor\u001b[39;00m i \u001b[38;5;129;01min\u001b[39;00m \u001b[38;5;28mrange\u001b[39m(\u001b[38;5;28mlen\u001b[39m(x)):\n\u001b[1;32m      9\u001b[0m     update(i)\n\u001b[0;32m---> 10\u001b[0m     \u001b[43mfig\u001b[49m\u001b[38;5;241;43m.\u001b[39;49m\u001b[43msavefig\u001b[49m\u001b[43m(\u001b[49m\u001b[38;5;124;43mf\u001b[39;49m\u001b[38;5;124;43m\"\u001b[39;49m\u001b[38;5;124;43mframes_x/frame_\u001b[39;49m\u001b[38;5;132;43;01m{\u001b[39;49;00m\u001b[43mi\u001b[49m\u001b[38;5;132;43;01m:\u001b[39;49;00m\u001b[38;5;124;43m04d\u001b[39;49m\u001b[38;5;132;43;01m}\u001b[39;49;00m\u001b[38;5;124;43m.png\u001b[39;49m\u001b[38;5;124;43m\"\u001b[39;49m\u001b[43m,\u001b[49m\u001b[43m \u001b[49m\u001b[43mdpi\u001b[49m\u001b[38;5;241;43m=\u001b[39;49m\u001b[38;5;241;43m200\u001b[39;49m\u001b[43m,\u001b[49m\u001b[43m \u001b[49m\u001b[43mtransparent\u001b[49m\u001b[38;5;241;43m=\u001b[39;49m\u001b[38;5;28;43;01mTrue\u001b[39;49;00m\u001b[43m,\u001b[49m\u001b[43m \u001b[49m\u001b[43mfacecolor\u001b[49m\u001b[38;5;241;43m=\u001b[39;49m\u001b[38;5;124;43m'\u001b[39;49m\u001b[38;5;124;43mnone\u001b[39;49m\u001b[38;5;124;43m'\u001b[39;49m\u001b[43m)\u001b[49m\n",
      "File \u001b[0;32m~/.local/lib/python3.8/site-packages/matplotlib/figure.py:3005\u001b[0m, in \u001b[0;36mFigure.savefig\u001b[0;34m(self, fname, transparent, **kwargs)\u001b[0m\n\u001b[1;32m   3002\u001b[0m         patch\u001b[38;5;241m.\u001b[39mset_facecolor(\u001b[38;5;124m'\u001b[39m\u001b[38;5;124mnone\u001b[39m\u001b[38;5;124m'\u001b[39m)\n\u001b[1;32m   3003\u001b[0m         patch\u001b[38;5;241m.\u001b[39mset_edgecolor(\u001b[38;5;124m'\u001b[39m\u001b[38;5;124mnone\u001b[39m\u001b[38;5;124m'\u001b[39m)\n\u001b[0;32m-> 3005\u001b[0m \u001b[38;5;28;43mself\u001b[39;49m\u001b[38;5;241;43m.\u001b[39;49m\u001b[43mcanvas\u001b[49m\u001b[38;5;241;43m.\u001b[39;49m\u001b[43mprint_figure\u001b[49m\u001b[43m(\u001b[49m\u001b[43mfname\u001b[49m\u001b[43m,\u001b[49m\u001b[43m \u001b[49m\u001b[38;5;241;43m*\u001b[39;49m\u001b[38;5;241;43m*\u001b[39;49m\u001b[43mkwargs\u001b[49m\u001b[43m)\u001b[49m\n\u001b[1;32m   3007\u001b[0m \u001b[38;5;28;01mif\u001b[39;00m transparent:\n\u001b[1;32m   3008\u001b[0m     \u001b[38;5;28;01mfor\u001b[39;00m ax, cc \u001b[38;5;129;01min\u001b[39;00m \u001b[38;5;28mzip\u001b[39m(\u001b[38;5;28mself\u001b[39m\u001b[38;5;241m.\u001b[39maxes, original_axes_colors):\n",
      "File \u001b[0;32m~/.local/lib/python3.8/site-packages/matplotlib/backend_bases.py:2255\u001b[0m, in \u001b[0;36mFigureCanvasBase.print_figure\u001b[0;34m(self, filename, dpi, facecolor, edgecolor, orientation, format, bbox_inches, pad_inches, bbox_extra_artists, backend, **kwargs)\u001b[0m\n\u001b[1;32m   2251\u001b[0m \u001b[38;5;28;01mtry\u001b[39;00m:\n\u001b[1;32m   2252\u001b[0m     \u001b[38;5;66;03m# _get_renderer may change the figure dpi (as vector formats\u001b[39;00m\n\u001b[1;32m   2253\u001b[0m     \u001b[38;5;66;03m# force the figure dpi to 72), so we need to set it again here.\u001b[39;00m\n\u001b[1;32m   2254\u001b[0m     \u001b[38;5;28;01mwith\u001b[39;00m cbook\u001b[38;5;241m.\u001b[39m_setattr_cm(\u001b[38;5;28mself\u001b[39m\u001b[38;5;241m.\u001b[39mfigure, dpi\u001b[38;5;241m=\u001b[39mdpi):\n\u001b[0;32m-> 2255\u001b[0m         result \u001b[38;5;241m=\u001b[39m \u001b[43mprint_method\u001b[49m\u001b[43m(\u001b[49m\n\u001b[1;32m   2256\u001b[0m \u001b[43m            \u001b[49m\u001b[43mfilename\u001b[49m\u001b[43m,\u001b[49m\n\u001b[1;32m   2257\u001b[0m \u001b[43m            \u001b[49m\u001b[43mfacecolor\u001b[49m\u001b[38;5;241;43m=\u001b[39;49m\u001b[43mfacecolor\u001b[49m\u001b[43m,\u001b[49m\n\u001b[1;32m   2258\u001b[0m \u001b[43m            \u001b[49m\u001b[43medgecolor\u001b[49m\u001b[38;5;241;43m=\u001b[39;49m\u001b[43medgecolor\u001b[49m\u001b[43m,\u001b[49m\n\u001b[1;32m   2259\u001b[0m \u001b[43m            \u001b[49m\u001b[43morientation\u001b[49m\u001b[38;5;241;43m=\u001b[39;49m\u001b[43morientation\u001b[49m\u001b[43m,\u001b[49m\n\u001b[1;32m   2260\u001b[0m \u001b[43m            \u001b[49m\u001b[43mbbox_inches_restore\u001b[49m\u001b[38;5;241;43m=\u001b[39;49m\u001b[43m_bbox_inches_restore\u001b[49m\u001b[43m,\u001b[49m\n\u001b[1;32m   2261\u001b[0m \u001b[43m            \u001b[49m\u001b[38;5;241;43m*\u001b[39;49m\u001b[38;5;241;43m*\u001b[39;49m\u001b[43mkwargs\u001b[49m\u001b[43m)\u001b[49m\n\u001b[1;32m   2262\u001b[0m \u001b[38;5;28;01mfinally\u001b[39;00m:\n\u001b[1;32m   2263\u001b[0m     \u001b[38;5;28;01mif\u001b[39;00m bbox_inches \u001b[38;5;129;01mand\u001b[39;00m restore_bbox:\n",
      "File \u001b[0;32m~/.local/lib/python3.8/site-packages/matplotlib/backend_bases.py:1669\u001b[0m, in \u001b[0;36m_check_savefig_extra_args.<locals>.wrapper\u001b[0;34m(*args, **kwargs)\u001b[0m\n\u001b[1;32m   1661\u001b[0m     _api\u001b[38;5;241m.\u001b[39mwarn_deprecated(\n\u001b[1;32m   1662\u001b[0m         \u001b[38;5;124m'\u001b[39m\u001b[38;5;124m3.3\u001b[39m\u001b[38;5;124m'\u001b[39m, name\u001b[38;5;241m=\u001b[39mname,\n\u001b[1;32m   1663\u001b[0m         message\u001b[38;5;241m=\u001b[39m\u001b[38;5;124m'\u001b[39m\u001b[38;5;132;01m%(name)s\u001b[39;00m\u001b[38;5;124m() got unexpected keyword argument \u001b[39m\u001b[38;5;124m\"\u001b[39m\u001b[38;5;124m'\u001b[39m\n\u001b[1;32m   1664\u001b[0m                 \u001b[38;5;241m+\u001b[39m arg \u001b[38;5;241m+\u001b[39m \u001b[38;5;124m'\u001b[39m\u001b[38;5;124m\"\u001b[39m\u001b[38;5;124m which is no longer supported as of \u001b[39m\u001b[38;5;124m'\u001b[39m\n\u001b[1;32m   1665\u001b[0m                 \u001b[38;5;124m'\u001b[39m\u001b[38;5;132;01m%(since)s\u001b[39;00m\u001b[38;5;124m and will become an error \u001b[39m\u001b[38;5;124m'\u001b[39m\n\u001b[1;32m   1666\u001b[0m                 \u001b[38;5;124m'\u001b[39m\u001b[38;5;132;01m%(removal)s\u001b[39;00m\u001b[38;5;124m'\u001b[39m)\n\u001b[1;32m   1667\u001b[0m     kwargs\u001b[38;5;241m.\u001b[39mpop(arg)\n\u001b[0;32m-> 1669\u001b[0m \u001b[38;5;28;01mreturn\u001b[39;00m \u001b[43mfunc\u001b[49m\u001b[43m(\u001b[49m\u001b[38;5;241;43m*\u001b[39;49m\u001b[43margs\u001b[49m\u001b[43m,\u001b[49m\u001b[43m \u001b[49m\u001b[38;5;241;43m*\u001b[39;49m\u001b[38;5;241;43m*\u001b[39;49m\u001b[43mkwargs\u001b[49m\u001b[43m)\u001b[49m\n",
      "File \u001b[0;32m~/.local/lib/python3.8/site-packages/matplotlib/backends/backend_agg.py:509\u001b[0m, in \u001b[0;36mFigureCanvasAgg.print_png\u001b[0;34m(self, filename_or_obj, metadata, pil_kwargs, *args)\u001b[0m\n\u001b[1;32m    462\u001b[0m \u001b[38;5;250m\u001b[39m\u001b[38;5;124;03m\"\"\"\u001b[39;00m\n\u001b[1;32m    463\u001b[0m \u001b[38;5;124;03mWrite the figure to a PNG file.\u001b[39;00m\n\u001b[1;32m    464\u001b[0m \n\u001b[0;32m   (...)\u001b[0m\n\u001b[1;32m    506\u001b[0m \u001b[38;5;124;03m    *metadata*, including the default 'Software' key.\u001b[39;00m\n\u001b[1;32m    507\u001b[0m \u001b[38;5;124;03m\"\"\"\u001b[39;00m\n\u001b[1;32m    508\u001b[0m FigureCanvasAgg\u001b[38;5;241m.\u001b[39mdraw(\u001b[38;5;28mself\u001b[39m)\n\u001b[0;32m--> 509\u001b[0m \u001b[43mmpl\u001b[49m\u001b[38;5;241;43m.\u001b[39;49m\u001b[43mimage\u001b[49m\u001b[38;5;241;43m.\u001b[39;49m\u001b[43mimsave\u001b[49m\u001b[43m(\u001b[49m\n\u001b[1;32m    510\u001b[0m \u001b[43m    \u001b[49m\u001b[43mfilename_or_obj\u001b[49m\u001b[43m,\u001b[49m\u001b[43m \u001b[49m\u001b[38;5;28;43mself\u001b[39;49m\u001b[38;5;241;43m.\u001b[39;49m\u001b[43mbuffer_rgba\u001b[49m\u001b[43m(\u001b[49m\u001b[43m)\u001b[49m\u001b[43m,\u001b[49m\u001b[43m \u001b[49m\u001b[38;5;28;43mformat\u001b[39;49m\u001b[38;5;241;43m=\u001b[39;49m\u001b[38;5;124;43m\"\u001b[39;49m\u001b[38;5;124;43mpng\u001b[39;49m\u001b[38;5;124;43m\"\u001b[39;49m\u001b[43m,\u001b[49m\u001b[43m \u001b[49m\u001b[43morigin\u001b[49m\u001b[38;5;241;43m=\u001b[39;49m\u001b[38;5;124;43m\"\u001b[39;49m\u001b[38;5;124;43mupper\u001b[39;49m\u001b[38;5;124;43m\"\u001b[39;49m\u001b[43m,\u001b[49m\n\u001b[1;32m    511\u001b[0m \u001b[43m    \u001b[49m\u001b[43mdpi\u001b[49m\u001b[38;5;241;43m=\u001b[39;49m\u001b[38;5;28;43mself\u001b[39;49m\u001b[38;5;241;43m.\u001b[39;49m\u001b[43mfigure\u001b[49m\u001b[38;5;241;43m.\u001b[39;49m\u001b[43mdpi\u001b[49m\u001b[43m,\u001b[49m\u001b[43m \u001b[49m\u001b[43mmetadata\u001b[49m\u001b[38;5;241;43m=\u001b[39;49m\u001b[43mmetadata\u001b[49m\u001b[43m,\u001b[49m\u001b[43m \u001b[49m\u001b[43mpil_kwargs\u001b[49m\u001b[38;5;241;43m=\u001b[39;49m\u001b[43mpil_kwargs\u001b[49m\u001b[43m)\u001b[49m\n",
      "File \u001b[0;32m~/.local/lib/python3.8/site-packages/matplotlib/image.py:1616\u001b[0m, in \u001b[0;36mimsave\u001b[0;34m(fname, arr, vmin, vmax, cmap, format, origin, dpi, metadata, pil_kwargs)\u001b[0m\n\u001b[1;32m   1614\u001b[0m pil_kwargs\u001b[38;5;241m.\u001b[39msetdefault(\u001b[38;5;124m\"\u001b[39m\u001b[38;5;124mformat\u001b[39m\u001b[38;5;124m\"\u001b[39m, \u001b[38;5;28mformat\u001b[39m)\n\u001b[1;32m   1615\u001b[0m pil_kwargs\u001b[38;5;241m.\u001b[39msetdefault(\u001b[38;5;124m\"\u001b[39m\u001b[38;5;124mdpi\u001b[39m\u001b[38;5;124m\"\u001b[39m, (dpi, dpi))\n\u001b[0;32m-> 1616\u001b[0m \u001b[43mimage\u001b[49m\u001b[38;5;241;43m.\u001b[39;49m\u001b[43msave\u001b[49m\u001b[43m(\u001b[49m\u001b[43mfname\u001b[49m\u001b[43m,\u001b[49m\u001b[43m \u001b[49m\u001b[38;5;241;43m*\u001b[39;49m\u001b[38;5;241;43m*\u001b[39;49m\u001b[43mpil_kwargs\u001b[49m\u001b[43m)\u001b[49m\n",
      "File \u001b[0;32m~/miniconda3/envs/wardiNN/lib/python3.8/site-packages/PIL/Image.py:2410\u001b[0m, in \u001b[0;36mImage.save\u001b[0;34m(self, fp, format, **params)\u001b[0m\n\u001b[1;32m   2408\u001b[0m         fp \u001b[38;5;241m=\u001b[39m builtins\u001b[38;5;241m.\u001b[39mopen(filename, \u001b[38;5;124m\"\u001b[39m\u001b[38;5;124mr+b\u001b[39m\u001b[38;5;124m\"\u001b[39m)\n\u001b[1;32m   2409\u001b[0m     \u001b[38;5;28;01melse\u001b[39;00m:\n\u001b[0;32m-> 2410\u001b[0m         fp \u001b[38;5;241m=\u001b[39m \u001b[43mbuiltins\u001b[49m\u001b[38;5;241;43m.\u001b[39;49m\u001b[43mopen\u001b[49m\u001b[43m(\u001b[49m\u001b[43mfilename\u001b[49m\u001b[43m,\u001b[49m\u001b[43m \u001b[49m\u001b[38;5;124;43m\"\u001b[39;49m\u001b[38;5;124;43mw+b\u001b[39;49m\u001b[38;5;124;43m\"\u001b[39;49m\u001b[43m)\u001b[49m\n\u001b[1;32m   2412\u001b[0m \u001b[38;5;28;01mtry\u001b[39;00m:\n\u001b[1;32m   2413\u001b[0m     save_handler(\u001b[38;5;28mself\u001b[39m, fp, filename)\n",
      "\u001b[0;31mFileNotFoundError\u001b[0m: [Errno 2] No such file or directory: 'frames_x/frame_0000.png'"
     ]
    }
   ],
   "source": [
    "# === Save PNG frames manually with transparent background ===\n",
    "import os\n",
    "os.makedirs(\"framesx\", exist_ok=True)\n",
    "\n",
    "# Re-initialize the figure\n",
    "init()\n",
    "\n",
    "for i in range(len(x)):\n",
    "    update(i)\n",
    "    fig.savefig(f\"frames_x/frame_{i:04d}.png\", dpi=200, transparent=True, facecolor='none')\n"
   ]
  },
  {
   "cell_type": "code",
   "execution_count": null,
   "id": "426d7407",
   "metadata": {},
   "outputs": [],
   "source": []
  }
 ],
 "metadata": {
  "kernelspec": {
   "display_name": "Python 3",
   "language": "python",
   "name": "python3"
  },
  "language_info": {
   "codemirror_mode": {
    "name": "ipython",
    "version": 3
   },
   "file_extension": ".py",
   "mimetype": "text/x-python",
   "name": "python",
   "nbconvert_exporter": "python",
   "pygments_lexer": "ipython3",
   "version": "3.8.10"
  }
 },
 "nbformat": 4,
 "nbformat_minor": 5
}
