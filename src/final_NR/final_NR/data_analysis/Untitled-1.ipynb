# %%
import pandas as pd
import numpy as np
import matplotlib.pyplot as plt
from mpl_toolkits.mplot3d import Axes3D
import matplotlib.animation as animation
from IPython.display import HTML
from matplotlib.animation import PillowWriter


# %%
# === Load and prepare data ===
log_file_path = 'hxx.log'
df_log = pd.read_csv(log_file_path)

# Clip time range
# start_time = df_log['time'].iloc[0] + 10 # + 41.0
# end_time = start_time + 30#df_log['time'].iloc[-1]# - 40.0

start_time = df_log['time'].iloc[0] + 70
end_time = start_time + 30

df_clipped = df_log[(df_log['time'] >= start_time) & (df_log['time'] <= end_time)].reset_index(drop=True)

# Apply skip factor
skip_factor = 1
df_clipped = df_clipped.iloc[::skip_factor].reset_index(drop=True)

# Adjust battery offset
battery_adj = df_clipped['z'].min() - df_clipped['z_ref'].min()

# %%
# Extract data
time_vals = df_clipped['time'].values
x = df_clipped['x'].values
y = df_clipped['y'].values
z = (df_clipped['z'] - battery_adj).values

start_time = df_log['time'].iloc[0] + 70
end_time = start_time + 15
df_clipped_ref = df_log[(df_log['time'] >= start_time) & (df_log['time'] <= end_time)].reset_index(drop=True)
 
x_ref = df_clipped_ref['x_ref'].values
y_ref = df_clipped_ref['y_ref'].values
z_ref = df_clipped_ref['z_ref'].values

# %%
# Estimate new dt
dt_vals = np.diff(time_vals, prepend=time_vals[0])
interval_ms = int(np.mean(dt_vals) * 1000)

# === Create figure and axes ===
fig = plt.figure()
ax = fig.add_subplot(111, projection='3d')
# Remove grid and axis numbers
ax.grid(False)                            # Turn off grid
ax.set_xticks([]); ax.set_yticks([]); ax.set_zticks([])  # Remove ticks
ax.set_xticklabels([]); ax.set_yticklabels([]); ax.set_zticklabels([])  # Remove tick labels
# ax.xaxis._axinfo['grid']['linewidth'] = 0
# ax.yaxis._axinfo['grid']['linewidth'] = 0
# ax.zaxis._axinfo['grid']['linewidth'] = 0



ax.set_box_aspect([1, 1, 1])
ax.set_xlabel('X')
ax.set_ylabel('Y')
ax.set_zlabel('Z')
ax.set_title("3D Helix Trajectory Tracking")
ax.view_init(elev=20, azim=0)
# Plot static reference trajectory
ax.plot3D(x_ref, y_ref, -z_ref, 'b--', label='Reference')
trace, = ax.plot([], [], [], 'r-', label='Actual')
ax.legend()

# Trace state
trace_x, trace_y, trace_z = [], [], []


# %%

def init():
    trace.set_data(x[:0], y[:0])
    trace.set_3d_properties(-z[:0])
    return trace,

def update(frame):
    trace_x.append(x[frame])
    trace_y.append(y[frame])
    trace_z.append(-z[frame])  # Z is negated
    trace.set_data(np.array(trace_x), np.array(trace_y))
    trace.set_3d_properties(np.array(trace_z))
    return trace,

ani = animation.FuncAnimation(
    fig, update, frames=len(x),
    init_func=init, blit=False, interval=interval_ms, repeat=False
)



# %%
# === Render animation inline ===
ani.save("trajectory.gif", writer=PillowWriter(fps=1000 // interval_ms))
# HTML(ani.to_jshtml())

# %%



